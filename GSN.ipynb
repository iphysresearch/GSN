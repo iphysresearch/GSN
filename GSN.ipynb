{
 "cells": [
  {
   "cell_type": "code",
   "execution_count": 3,
   "metadata": {},
   "outputs": [],
   "source": [
    "import numpy, os, sys\n",
    "import pickle as pk\n",
    "import theano\n",
    "import theano.tensor as T\n",
    "import theano.sandbox.rng_mrg as RNG_MRG\n",
    "import PIL.Image\n",
    "from collections import OrderedDict\n",
    "from image_tiler import *\n",
    "import time\n",
    "import argparse\n",
    "\n",
    "cast32      = lambda x : numpy.cast['float32'](x)\n",
    "trunc       = lambda x : str(x)[:8]\n",
    "logit       = lambda p : numpy.log(p / (1 - p) )\n",
    "binarize    = lambda x : cast32(x >= 0.5)\n",
    "sigmoid     = lambda x : cast32(1. / (1 + numpy.exp(-x)))\n"
   ]
  },
  {
   "cell_type": "code",
   "execution_count": null,
   "metadata": {},
   "outputs": [],
   "source": []
  }
 ],
 "metadata": {
  "kernelspec": {
   "display_name": "Python 3",
   "language": "python",
   "name": "python3"
  },
  "language_info": {
   "codemirror_mode": {
    "name": "ipython",
    "version": 3
   },
   "file_extension": ".py",
   "mimetype": "text/x-python",
   "name": "python",
   "nbconvert_exporter": "python",
   "pygments_lexer": "ipython3",
   "version": "3.7.2"
  }
 },
 "nbformat": 4,
 "nbformat_minor": 4
}
